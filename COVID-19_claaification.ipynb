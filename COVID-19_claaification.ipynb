{
 "cells": [
  {
   "cell_type": "code",
   "execution_count": 1,
   "id": "5d0e86e1",
   "metadata": {},
   "outputs": [],
   "source": [
    "# Road image file path\n",
    "train_data_dir = \"./Covid-19-dataset/train\"\n",
    "test_data_dir = \"./Covid-19-dataset/test\"\n",
    "class_list = [\"Nomal\", \"Covid\", \"Viral Pneumonia\"]"
   ]
  },
  {
   "cell_type": "code",
   "execution_count": 2,
   "id": "da9da5ed",
   "metadata": {},
   "outputs": [],
   "source": [
    "# function of set file\n",
    "class Chest_dataset():\n",
    "    def __init__(self, data_dir, transformer=None):\n",
    "        self.data_dir = data_dir\n",
    "        normals = list_image_files(data_dir, \"Normal\")\n",
    "        covids = list_image_files(data_dir, \"Covid\")\n",
    "        pneumonia = list_image_files(data_dir, \"Viral Pneumonia\")\n",
    "        \n",
    "        self.files_path = normals + covids + pnrumonias\n",
    "        self.transformer = transformer\n",
    "        \n",
    "    def __len__(self,):\n",
    "        return len(self.files_path)\n",
    "    \n",
    "    def __getitem__(self,):\n",
    "        image_file = os.path_join(self.data_dir, self.files_path[index])\n",
    "        image = cv2.imread(image_file)\n",
    "        image = cv2.cvtColor(image, cv2.COLOR_BGR2RGB)\n",
    "        \n",
    "        class_name = self.files_path[index].split(os.sep)[0]\n",
    "        class_id = class_list.index(class_name)\n",
    "        \n",
    "        if self.transformer:\n",
    "            image = self.transformer(image)\n",
    "            class_id = torch.Tensor([target]).long()\n",
    "            \n",
    "            return image, class_id"
   ]
  },
  {
   "cell_type": "code",
   "execution_count": 4,
   "id": "08864d04",
   "metadata": {},
   "outputs": [
    {
     "ename": "NameError",
     "evalue": "name 'list_image_files' is not defined",
     "output_type": "error",
     "traceback": [
      "\u001b[0;31m---------------------------------------------------------------------------\u001b[0m",
      "\u001b[0;31mNameError\u001b[0m                                 Traceback (most recent call last)",
      "Input \u001b[0;32mIn [4]\u001b[0m, in \u001b[0;36m<cell line: 1>\u001b[0;34m()\u001b[0m\n\u001b[0;32m----> 1\u001b[0m train_dset \u001b[38;5;241m=\u001b[39m \u001b[43mChest_dataset\u001b[49m\u001b[43m(\u001b[49m\u001b[43mdata_dir\u001b[49m\u001b[38;5;241;43m=\u001b[39;49m\u001b[43mtrain_data_dir\u001b[49m\u001b[43m)\u001b[49m\n",
      "Input \u001b[0;32mIn [2]\u001b[0m, in \u001b[0;36mChest_dataset.__init__\u001b[0;34m(self, data_dir, transformer)\u001b[0m\n\u001b[1;32m      3\u001b[0m \u001b[38;5;28;01mdef\u001b[39;00m \u001b[38;5;21m__init__\u001b[39m(\u001b[38;5;28mself\u001b[39m, data_dir, transformer\u001b[38;5;241m=\u001b[39m\u001b[38;5;28;01mNone\u001b[39;00m):\n\u001b[1;32m      4\u001b[0m     \u001b[38;5;28mself\u001b[39m\u001b[38;5;241m.\u001b[39mdata_dir \u001b[38;5;241m=\u001b[39m data_dir\n\u001b[0;32m----> 5\u001b[0m     normals \u001b[38;5;241m=\u001b[39m \u001b[43mlist_image_files\u001b[49m(data_dir, \u001b[38;5;124m\"\u001b[39m\u001b[38;5;124mNormal\u001b[39m\u001b[38;5;124m\"\u001b[39m)\n\u001b[1;32m      6\u001b[0m     covids \u001b[38;5;241m=\u001b[39m list_image_files(data_dir, \u001b[38;5;124m\"\u001b[39m\u001b[38;5;124mCovid\u001b[39m\u001b[38;5;124m\"\u001b[39m)\n\u001b[1;32m      7\u001b[0m     pneumonia \u001b[38;5;241m=\u001b[39m list_image_files(data_dir, \u001b[38;5;124m\"\u001b[39m\u001b[38;5;124mViral Pneumonia\u001b[39m\u001b[38;5;124m\"\u001b[39m)\n",
      "\u001b[0;31mNameError\u001b[0m: name 'list_image_files' is not defined"
     ]
    }
   ],
   "source": [
    "train_dset = Chest_dataset(data_dir=train_data_dir)"
   ]
  },
  {
   "cell_type": "code",
   "execution_count": null,
   "id": "884ff029",
   "metadata": {},
   "outputs": [],
   "source": []
  }
 ],
 "metadata": {
  "kernelspec": {
   "display_name": "Python 3 (ipykernel)",
   "language": "python",
   "name": "python3"
  },
  "language_info": {
   "codemirror_mode": {
    "name": "ipython",
    "version": 3
   },
   "file_extension": ".py",
   "mimetype": "text/x-python",
   "name": "python",
   "nbconvert_exporter": "python",
   "pygments_lexer": "ipython3",
   "version": "3.8.5"
  }
 },
 "nbformat": 4,
 "nbformat_minor": 5
}
